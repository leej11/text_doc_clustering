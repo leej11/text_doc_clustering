{
 "cells": [
  {
   "cell_type": "markdown",
   "id": "d19042fc-0600-4435-be39-a34abfdbbdb8",
   "metadata": {},
   "source": [
    "### References\n",
    "https://towardsdatascience.com/tf-idf-explained-and-python-sklearn-implementation-b020c5e83275\n",
    "https://scikit-learn.org/stable/auto_examples/text/plot_document_clustering.html#sphx-glr-auto-examples-text-plot-document-clustering-py"
   ]
  },
  {
   "cell_type": "code",
   "execution_count": 16,
   "id": "d1ff3379-58c8-4797-b6dc-1fd725908dff",
   "metadata": {},
   "outputs": [],
   "source": [
    "from sklearn.feature_extraction.text import TfidfVectorizer\n",
    "from sklearn.cluster import KMeans\n",
    "import turicreate\n",
    "import pandas as pd"
   ]
  },
  {
   "cell_type": "code",
   "execution_count": 4,
   "id": "b036f71b-28fa-476b-b5ac-acf584ba7e2f",
   "metadata": {},
   "outputs": [],
   "source": [
    "people = turicreate.SFrame('./people_wiki.sframe')"
   ]
  },
  {
   "cell_type": "code",
   "execution_count": 5,
   "id": "a1aab34c-f8ba-4dcc-b43e-4fd456f12e1e",
   "metadata": {},
   "outputs": [],
   "source": [
    "df = people.to_dataframe()"
   ]
  },
  {
   "cell_type": "code",
   "execution_count": 6,
   "id": "6eea6477-5966-4abe-8701-e3d3f51cc91d",
   "metadata": {},
   "outputs": [
    {
     "data": {
      "text/html": [
       "<div>\n",
       "<style scoped>\n",
       "    .dataframe tbody tr th:only-of-type {\n",
       "        vertical-align: middle;\n",
       "    }\n",
       "\n",
       "    .dataframe tbody tr th {\n",
       "        vertical-align: top;\n",
       "    }\n",
       "\n",
       "    .dataframe thead th {\n",
       "        text-align: right;\n",
       "    }\n",
       "</style>\n",
       "<table border=\"1\" class=\"dataframe\">\n",
       "  <thead>\n",
       "    <tr style=\"text-align: right;\">\n",
       "      <th></th>\n",
       "      <th>URI</th>\n",
       "      <th>name</th>\n",
       "      <th>text</th>\n",
       "    </tr>\n",
       "  </thead>\n",
       "  <tbody>\n",
       "    <tr>\n",
       "      <th>0</th>\n",
       "      <td>&lt;http://dbpedia.org/resource/Digby_Morrell&gt;</td>\n",
       "      <td>Digby Morrell</td>\n",
       "      <td>digby morrell born 10 october 1979 is a former...</td>\n",
       "    </tr>\n",
       "    <tr>\n",
       "      <th>1</th>\n",
       "      <td>&lt;http://dbpedia.org/resource/Alfred_J._Lewy&gt;</td>\n",
       "      <td>Alfred J. Lewy</td>\n",
       "      <td>alfred j lewy aka sandy lewy graduated from un...</td>\n",
       "    </tr>\n",
       "    <tr>\n",
       "      <th>2</th>\n",
       "      <td>&lt;http://dbpedia.org/resource/Harpdog_Brown&gt;</td>\n",
       "      <td>Harpdog Brown</td>\n",
       "      <td>harpdog brown is a singer and harmonica player...</td>\n",
       "    </tr>\n",
       "    <tr>\n",
       "      <th>3</th>\n",
       "      <td>&lt;http://dbpedia.org/resource/Franz_Rottensteiner&gt;</td>\n",
       "      <td>Franz Rottensteiner</td>\n",
       "      <td>franz rottensteiner born in waidmannsfeld lowe...</td>\n",
       "    </tr>\n",
       "    <tr>\n",
       "      <th>4</th>\n",
       "      <td>&lt;http://dbpedia.org/resource/G-Enka&gt;</td>\n",
       "      <td>G-Enka</td>\n",
       "      <td>henry krvits born 30 december 1974 in tallinn ...</td>\n",
       "    </tr>\n",
       "  </tbody>\n",
       "</table>\n",
       "</div>"
      ],
      "text/plain": [
       "                                                 URI                 name  \\\n",
       "0        <http://dbpedia.org/resource/Digby_Morrell>        Digby Morrell   \n",
       "1       <http://dbpedia.org/resource/Alfred_J._Lewy>       Alfred J. Lewy   \n",
       "2        <http://dbpedia.org/resource/Harpdog_Brown>        Harpdog Brown   \n",
       "3  <http://dbpedia.org/resource/Franz_Rottensteiner>  Franz Rottensteiner   \n",
       "4               <http://dbpedia.org/resource/G-Enka>               G-Enka   \n",
       "\n",
       "                                                text  \n",
       "0  digby morrell born 10 october 1979 is a former...  \n",
       "1  alfred j lewy aka sandy lewy graduated from un...  \n",
       "2  harpdog brown is a singer and harmonica player...  \n",
       "3  franz rottensteiner born in waidmannsfeld lowe...  \n",
       "4  henry krvits born 30 december 1974 in tallinn ...  "
      ]
     },
     "execution_count": 6,
     "metadata": {},
     "output_type": "execute_result"
    }
   ],
   "source": [
    "df.head()"
   ]
  },
  {
   "cell_type": "markdown",
   "id": "7f562a4e-ed05-44c7-b6d7-f35752ecba2c",
   "metadata": {},
   "source": [
    "### Create a Corpus\n",
    "\n",
    "A \"corpus\" represents the entire body of articles / text documents. "
   ]
  },
  {
   "cell_type": "code",
   "execution_count": 7,
   "id": "e61d6105-9dbc-4e0a-9fb7-5a59d93de6bb",
   "metadata": {},
   "outputs": [],
   "source": [
    "corpus = list(df['text'])"
   ]
  },
  {
   "cell_type": "markdown",
   "id": "4585faeb-96c1-4237-a761-9a48dad99c00",
   "metadata": {},
   "source": [
    "Let's just check the first item in the corpus, represents our first document which should be that of \"Digby Morrell\"."
   ]
  },
  {
   "cell_type": "code",
   "execution_count": 9,
   "id": "8c658c4d-8ba6-479e-8d1f-5cfdb03c5b6c",
   "metadata": {},
   "outputs": [
    {
     "data": {
      "text/plain": [
       "'digby morrell born 10 october 1979 is a former australian rules footballer who played with the kangaroos and carlton in the australian football league aflfrom western australia morrell played his early senior football for west perth his 44game senior career for the falcons spanned 19982000 and he was the clubs leading goalkicker in 2000 at the age of 21 morrell was recruited to the australian football league by the kangaroos football club with its third round selection in the 2001 afl rookie draft as a forward he twice kicked five goals during his time with the kangaroos the first was in a losing cause against sydney in 2002 and the other the following season in a drawn game against brisbaneafter the 2003 season morrell was traded along with david teague to the carlton football club in exchange for corey mckernan he played 32 games for the blues before being delisted at the end of 2005 he continued to play victorian football league vfl football with the northern bullants carltons vflaffiliate in 2006 and acted as playing assistant coach in 2007 in 2008 he shifted to the box hill hawks before retiring from playing at the end of the season from 2009 until 2013 morrell was the senior coach of the strathmore football club in the essendon district football league leading the club to the 2011 premier division premiership since 2014 he has coached the west coburg football club also in the edflhe currently teaches physical education at parade college in melbourne'"
      ]
     },
     "execution_count": 9,
     "metadata": {},
     "output_type": "execute_result"
    }
   ],
   "source": [
    "corpus[0]"
   ]
  },
  {
   "cell_type": "markdown",
   "id": "8864f78a-64b6-4f1e-a196-6e41ec2b3db0",
   "metadata": {},
   "source": [
    "### Instantiate a \"Vectorizer\"\n",
    "\n",
    "Vectorisation is a process of turning a collection of text documents into numerical feature documents. The specific way in which you 'vectorize' your document, depends on the type of \"Vectorizer\" you use.\n",
    "\n",
    "2 common ones are `CountVectorizer`, which simply counts words in the documents, and `tfidfVectorizer` which applies the tf-idf normalisation to upweight words which are unique/rare in the corpus, and downweight the opposite."
   ]
  },
  {
   "cell_type": "code",
   "execution_count": 19,
   "id": "50c07044-1b7d-4064-af7c-1e8584bb2d9c",
   "metadata": {},
   "outputs": [],
   "source": [
    "tfidfvectoriser = TfidfVectorizer(stop_words='english')"
   ]
  },
  {
   "cell_type": "markdown",
   "id": "a8b785a8-97cc-4aab-8771-66cfde5c4a87",
   "metadata": {},
   "source": [
    "When we apply the tfidfvectoriser to our corpus of text documents, it returns a `scipy.spare._csr.csr_matrix`, which I don't fully understand but I believe it represents basically `(nsamples, nfeatures)` matrix, with the values being the td-idf scores.\n",
    "\n",
    "The `nfeatures` are 0 based indexed, but in the code below, we can derive what 'token' they represent."
   ]
  },
  {
   "cell_type": "code",
   "execution_count": 20,
   "id": "014fed48-92c8-4fae-afc4-47edfcbd3c2b",
   "metadata": {},
   "outputs": [],
   "source": [
    "X = tfidfvectoriser.fit_transform(corpus)"
   ]
  },
  {
   "cell_type": "code",
   "execution_count": 21,
   "id": "9ca47899-20a4-40fe-8a33-d8e962670e0b",
   "metadata": {},
   "outputs": [],
   "source": [
    "tfidf_tokens = tfidfvectoriser.get_feature_names_out()\n",
    "stop_words = tfidfvectoriser.get_stop_words()"
   ]
  },
  {
   "cell_type": "code",
   "execution_count": 22,
   "id": "bbfb73e5-bab0-4863-82a5-38911af27769",
   "metadata": {},
   "outputs": [],
   "source": [
    "tmp_df = pd.DataFrame(X[0].T.todense(), index=tfidf_tokens, columns=[\"TF-IDF\"])"
   ]
  },
  {
   "cell_type": "markdown",
   "id": "6bf1ffe5-2df0-4a3d-9ff4-e5cf64c9f139",
   "metadata": {},
   "source": [
    "Below appears to be the top tokens in our corpus."
   ]
  },
  {
   "cell_type": "code",
   "execution_count": 26,
   "id": "65db3687-91a0-4d03-b97d-9bd9e6f69b87",
   "metadata": {},
   "outputs": [
    {
     "data": {
      "text/html": [
       "<div>\n",
       "<style scoped>\n",
       "    .dataframe tbody tr th:only-of-type {\n",
       "        vertical-align: middle;\n",
       "    }\n",
       "\n",
       "    .dataframe tbody tr th {\n",
       "        vertical-align: top;\n",
       "    }\n",
       "\n",
       "    .dataframe thead th {\n",
       "        text-align: right;\n",
       "    }\n",
       "</style>\n",
       "<table border=\"1\" class=\"dataframe\">\n",
       "  <thead>\n",
       "    <tr style=\"text-align: right;\">\n",
       "      <th></th>\n",
       "      <th>TF-IDF</th>\n",
       "    </tr>\n",
       "  </thead>\n",
       "  <tbody>\n",
       "    <tr>\n",
       "      <th>morrell</th>\n",
       "      <td>0.553180</td>\n",
       "    </tr>\n",
       "    <tr>\n",
       "      <th>football</th>\n",
       "      <td>0.386163</td>\n",
       "    </tr>\n",
       "    <tr>\n",
       "      <th>kangaroos</th>\n",
       "      <td>0.256943</td>\n",
       "    </tr>\n",
       "    <tr>\n",
       "      <th>club</th>\n",
       "      <td>0.174097</td>\n",
       "    </tr>\n",
       "    <tr>\n",
       "      <th>carlton</th>\n",
       "      <td>0.137553</td>\n",
       "    </tr>\n",
       "    <tr>\n",
       "      <th>league</th>\n",
       "      <td>0.133941</td>\n",
       "    </tr>\n",
       "    <tr>\n",
       "      <th>australian</th>\n",
       "      <td>0.126203</td>\n",
       "    </tr>\n",
       "    <tr>\n",
       "      <th>brisbaneafter</th>\n",
       "      <td>0.122558</td>\n",
       "    </tr>\n",
       "    <tr>\n",
       "      <th>aflfrom</th>\n",
       "      <td>0.122558</td>\n",
       "    </tr>\n",
       "    <tr>\n",
       "      <th>edflhe</th>\n",
       "      <td>0.122558</td>\n",
       "    </tr>\n",
       "    <tr>\n",
       "      <th>44game</th>\n",
       "      <td>0.115036</td>\n",
       "    </tr>\n",
       "    <tr>\n",
       "      <th>mckernan</th>\n",
       "      <td>0.112615</td>\n",
       "    </tr>\n",
       "    <tr>\n",
       "      <th>teague</th>\n",
       "      <td>0.107514</td>\n",
       "    </tr>\n",
       "    <tr>\n",
       "      <th>senior</th>\n",
       "      <td>0.107402</td>\n",
       "    </tr>\n",
       "    <tr>\n",
       "      <th>strathmore</th>\n",
       "      <td>0.103114</td>\n",
       "    </tr>\n",
       "    <tr>\n",
       "      <th>digby</th>\n",
       "      <td>0.100692</td>\n",
       "    </tr>\n",
       "    <tr>\n",
       "      <th>coburg</th>\n",
       "      <td>0.095592</td>\n",
       "    </tr>\n",
       "    <tr>\n",
       "      <th>season</th>\n",
       "      <td>0.094006</td>\n",
       "    </tr>\n",
       "    <tr>\n",
       "      <th>bullants</th>\n",
       "      <td>0.091812</td>\n",
       "    </tr>\n",
       "    <tr>\n",
       "      <th>vflaffiliate</th>\n",
       "      <td>0.091191</td>\n",
       "    </tr>\n",
       "    <tr>\n",
       "      <th>carltons</th>\n",
       "      <td>0.087412</td>\n",
       "    </tr>\n",
       "    <tr>\n",
       "      <th>goalkicker</th>\n",
       "      <td>0.085118</td>\n",
       "    </tr>\n",
       "    <tr>\n",
       "      <th>played</th>\n",
       "      <td>0.082869</td>\n",
       "    </tr>\n",
       "    <tr>\n",
       "      <th>19982000</th>\n",
       "      <td>0.081369</td>\n",
       "    </tr>\n",
       "    <tr>\n",
       "      <th>corey</th>\n",
       "      <td>0.081128</td>\n",
       "    </tr>\n",
       "  </tbody>\n",
       "</table>\n",
       "</div>"
      ],
      "text/plain": [
       "                 TF-IDF\n",
       "morrell        0.553180\n",
       "football       0.386163\n",
       "kangaroos      0.256943\n",
       "club           0.174097\n",
       "carlton        0.137553\n",
       "league         0.133941\n",
       "australian     0.126203\n",
       "brisbaneafter  0.122558\n",
       "aflfrom        0.122558\n",
       "edflhe         0.122558\n",
       "44game         0.115036\n",
       "mckernan       0.112615\n",
       "teague         0.107514\n",
       "senior         0.107402\n",
       "strathmore     0.103114\n",
       "digby          0.100692\n",
       "coburg         0.095592\n",
       "season         0.094006\n",
       "bullants       0.091812\n",
       "vflaffiliate   0.091191\n",
       "carltons       0.087412\n",
       "goalkicker     0.085118\n",
       "played         0.082869\n",
       "19982000       0.081369\n",
       "corey          0.081128"
      ]
     },
     "execution_count": 26,
     "metadata": {},
     "output_type": "execute_result"
    }
   ],
   "source": [
    "tmp_df = tmp_df.sort_values('TF-IDF', ascending=False)\n",
    "tmp_df[:25]"
   ]
  },
  {
   "cell_type": "code",
   "execution_count": 13,
   "id": "5d62f90f-d534-45b2-abd8-acf42c879bf6",
   "metadata": {},
   "outputs": [
    {
     "data": {
      "text/plain": [
       "array(['00', '000', '0000', ..., 'zzran', 'zzt', 'zzts'], dtype=object)"
      ]
     },
     "execution_count": 13,
     "metadata": {},
     "output_type": "execute_result"
    }
   ],
   "source": [
    "tfidf_tokens"
   ]
  },
  {
   "cell_type": "code",
   "execution_count": 33,
   "id": "8ff2abb6-ba60-42a6-b562-40057fa050b7",
   "metadata": {},
   "outputs": [
    {
     "data": {
      "text/plain": [
       "(59071, 547629)"
      ]
     },
     "execution_count": 33,
     "metadata": {},
     "output_type": "execute_result"
    }
   ],
   "source": [
    "X.shape"
   ]
  },
  {
   "cell_type": "code",
   "execution_count": 34,
   "id": "351b43f5-e2e3-44e0-afc6-79a82ba2edaf",
   "metadata": {},
   "outputs": [
    {
     "data": {
      "text/plain": [
       "scipy.sparse._csr.csr_matrix"
      ]
     },
     "execution_count": 34,
     "metadata": {},
     "output_type": "execute_result"
    }
   ],
   "source": [
    "type(X)"
   ]
  },
  {
   "cell_type": "code",
   "execution_count": 2,
   "id": "e584926a-dbef-43ca-93b9-01cfee5349af",
   "metadata": {},
   "outputs": [
    {
     "ename": "NameError",
     "evalue": "name 'X' is not defined",
     "output_type": "error",
     "traceback": [
      "\u001b[0;31m---------------------------------------------------------------------------\u001b[0m",
      "\u001b[0;31mNameError\u001b[0m                                 Traceback (most recent call last)",
      "Input \u001b[0;32mIn [2]\u001b[0m, in \u001b[0;36m<cell line: 1>\u001b[0;34m()\u001b[0m\n\u001b[0;32m----> 1\u001b[0m my_array \u001b[38;5;241m=\u001b[39m \u001b[43mX\u001b[49m\u001b[38;5;241m.\u001b[39mtoarray()\n",
      "\u001b[0;31mNameError\u001b[0m: name 'X' is not defined"
     ]
    }
   ],
   "source": [
    "my_array = X.toarray()"
   ]
  },
  {
   "cell_type": "code",
   "execution_count": null,
   "id": "f12850b3-15a0-421a-b96d-3425ab42311e",
   "metadata": {},
   "outputs": [],
   "source": [
    "type(my_array)"
   ]
  },
  {
   "cell_type": "markdown",
   "id": "aa2c22f3-fd62-4ec4-a281-b16ad0f6c8b9",
   "metadata": {},
   "source": [
    "### Apply K-Means Clustering to tdidf matrix"
   ]
  },
  {
   "cell_type": "code",
   "execution_count": 33,
   "id": "a4b7bef4-2696-4632-a6cc-2de7b331dc2d",
   "metadata": {},
   "outputs": [],
   "source": [
    "kmeans = KMeans(n_clusters=5).fit(X)"
   ]
  },
  {
   "cell_type": "code",
   "execution_count": 46,
   "id": "252d7efc-2058-4dd2-9c31-a3c7fadbc0a8",
   "metadata": {},
   "outputs": [
    {
     "data": {
      "text/plain": [
       "{0, 1, 2, 3, 4}"
      ]
     },
     "execution_count": 46,
     "metadata": {},
     "output_type": "execute_result"
    }
   ],
   "source": [
    "set(kmeans.labels_)"
   ]
  },
  {
   "cell_type": "code",
   "execution_count": 47,
   "id": "cf4885b1-220a-4817-998c-c0994a749aef",
   "metadata": {},
   "outputs": [],
   "source": [
    "df['tfidf_cluster'] = kmeans.labels_"
   ]
  },
  {
   "cell_type": "code",
   "execution_count": 48,
   "id": "473bca8f-a65d-42e0-9e0e-7f827f1accfd",
   "metadata": {},
   "outputs": [
    {
     "data": {
      "text/html": [
       "<div>\n",
       "<style scoped>\n",
       "    .dataframe tbody tr th:only-of-type {\n",
       "        vertical-align: middle;\n",
       "    }\n",
       "\n",
       "    .dataframe tbody tr th {\n",
       "        vertical-align: top;\n",
       "    }\n",
       "\n",
       "    .dataframe thead th {\n",
       "        text-align: right;\n",
       "    }\n",
       "</style>\n",
       "<table border=\"1\" class=\"dataframe\">\n",
       "  <thead>\n",
       "    <tr style=\"text-align: right;\">\n",
       "      <th></th>\n",
       "      <th>URI</th>\n",
       "      <th>name</th>\n",
       "      <th>text</th>\n",
       "      <th>tfidf_cluster</th>\n",
       "    </tr>\n",
       "  </thead>\n",
       "  <tbody>\n",
       "    <tr>\n",
       "      <th>0</th>\n",
       "      <td>&lt;http://dbpedia.org/resource/Digby_Morrell&gt;</td>\n",
       "      <td>Digby Morrell</td>\n",
       "      <td>digby morrell born 10 october 1979 is a former...</td>\n",
       "      <td>4</td>\n",
       "    </tr>\n",
       "    <tr>\n",
       "      <th>1</th>\n",
       "      <td>&lt;http://dbpedia.org/resource/Alfred_J._Lewy&gt;</td>\n",
       "      <td>Alfred J. Lewy</td>\n",
       "      <td>alfred j lewy aka sandy lewy graduated from un...</td>\n",
       "      <td>0</td>\n",
       "    </tr>\n",
       "    <tr>\n",
       "      <th>2</th>\n",
       "      <td>&lt;http://dbpedia.org/resource/Harpdog_Brown&gt;</td>\n",
       "      <td>Harpdog Brown</td>\n",
       "      <td>harpdog brown is a singer and harmonica player...</td>\n",
       "      <td>2</td>\n",
       "    </tr>\n",
       "    <tr>\n",
       "      <th>3</th>\n",
       "      <td>&lt;http://dbpedia.org/resource/Franz_Rottensteiner&gt;</td>\n",
       "      <td>Franz Rottensteiner</td>\n",
       "      <td>franz rottensteiner born in waidmannsfeld lowe...</td>\n",
       "      <td>0</td>\n",
       "    </tr>\n",
       "    <tr>\n",
       "      <th>4</th>\n",
       "      <td>&lt;http://dbpedia.org/resource/G-Enka&gt;</td>\n",
       "      <td>G-Enka</td>\n",
       "      <td>henry krvits born 30 december 1974 in tallinn ...</td>\n",
       "      <td>2</td>\n",
       "    </tr>\n",
       "  </tbody>\n",
       "</table>\n",
       "</div>"
      ],
      "text/plain": [
       "                                                 URI                 name  \\\n",
       "0        <http://dbpedia.org/resource/Digby_Morrell>        Digby Morrell   \n",
       "1       <http://dbpedia.org/resource/Alfred_J._Lewy>       Alfred J. Lewy   \n",
       "2        <http://dbpedia.org/resource/Harpdog_Brown>        Harpdog Brown   \n",
       "3  <http://dbpedia.org/resource/Franz_Rottensteiner>  Franz Rottensteiner   \n",
       "4               <http://dbpedia.org/resource/G-Enka>               G-Enka   \n",
       "\n",
       "                                                text  tfidf_cluster  \n",
       "0  digby morrell born 10 october 1979 is a former...              4  \n",
       "1  alfred j lewy aka sandy lewy graduated from un...              0  \n",
       "2  harpdog brown is a singer and harmonica player...              2  \n",
       "3  franz rottensteiner born in waidmannsfeld lowe...              0  \n",
       "4  henry krvits born 30 december 1974 in tallinn ...              2  "
      ]
     },
     "execution_count": 48,
     "metadata": {},
     "output_type": "execute_result"
    }
   ],
   "source": [
    "df.head()"
   ]
  },
  {
   "cell_type": "code",
   "execution_count": 49,
   "id": "0d76317a-450f-4f8c-807c-f115b1977bf6",
   "metadata": {},
   "outputs": [
    {
     "data": {
      "text/html": [
       "<div>\n",
       "<style scoped>\n",
       "    .dataframe tbody tr th:only-of-type {\n",
       "        vertical-align: middle;\n",
       "    }\n",
       "\n",
       "    .dataframe tbody tr th {\n",
       "        vertical-align: top;\n",
       "    }\n",
       "\n",
       "    .dataframe thead th {\n",
       "        text-align: right;\n",
       "    }\n",
       "</style>\n",
       "<table border=\"1\" class=\"dataframe\">\n",
       "  <thead>\n",
       "    <tr style=\"text-align: right;\">\n",
       "      <th></th>\n",
       "      <th>URI</th>\n",
       "      <th>name</th>\n",
       "      <th>text</th>\n",
       "      <th>tfidf_cluster</th>\n",
       "    </tr>\n",
       "  </thead>\n",
       "  <tbody>\n",
       "    <tr>\n",
       "      <th>7</th>\n",
       "      <td>&lt;http://dbpedia.org/resource/Trevor_Ferguson&gt;</td>\n",
       "      <td>Trevor Ferguson</td>\n",
       "      <td>trevor ferguson aka john farrow born 11 novemb...</td>\n",
       "      <td>3</td>\n",
       "    </tr>\n",
       "    <tr>\n",
       "      <th>15</th>\n",
       "      <td>&lt;http://dbpedia.org/resource/Joerg_Steineck&gt;</td>\n",
       "      <td>Joerg Steineck</td>\n",
       "      <td>joerg steineck is a german filmmaker editor an...</td>\n",
       "      <td>3</td>\n",
       "    </tr>\n",
       "    <tr>\n",
       "      <th>40</th>\n",
       "      <td>&lt;http://dbpedia.org/resource/Timothy_Grucza&gt;</td>\n",
       "      <td>Timothy Grucza</td>\n",
       "      <td>timothy grucza born 1 july 1976 melbourne aust...</td>\n",
       "      <td>3</td>\n",
       "    </tr>\n",
       "    <tr>\n",
       "      <th>69</th>\n",
       "      <td>&lt;http://dbpedia.org/resource/Will_Tiao&gt;</td>\n",
       "      <td>Will Tiao</td>\n",
       "      <td>will tiao is a taiwanese american actor and pr...</td>\n",
       "      <td>3</td>\n",
       "    </tr>\n",
       "    <tr>\n",
       "      <th>71</th>\n",
       "      <td>&lt;http://dbpedia.org/resource/Geoffrey_Bayldon&gt;</td>\n",
       "      <td>Geoffrey Bayldon</td>\n",
       "      <td>geoffrey bayldon born 7 january 1924 in leeds ...</td>\n",
       "      <td>3</td>\n",
       "    </tr>\n",
       "    <tr>\n",
       "      <th>80</th>\n",
       "      <td>&lt;http://dbpedia.org/resource/Robin_MacPherson&gt;</td>\n",
       "      <td>Robin MacPherson</td>\n",
       "      <td>robin macpherson born 1959 glasgow scotland is...</td>\n",
       "      <td>3</td>\n",
       "    </tr>\n",
       "    <tr>\n",
       "      <th>85</th>\n",
       "      <td>&lt;http://dbpedia.org/resource/Zvonimir_Juri%C4%87&gt;</td>\n",
       "      <td>Zvonimir Juri%C4%87</td>\n",
       "      <td>zvonimir juri born 4 june 1971 is a croatian f...</td>\n",
       "      <td>3</td>\n",
       "    </tr>\n",
       "    <tr>\n",
       "      <th>91</th>\n",
       "      <td>&lt;http://dbpedia.org/resource/Katja_Herbers&gt;</td>\n",
       "      <td>Katja Herbers</td>\n",
       "      <td>katja mira herbers dutch pronunciation ktja mi...</td>\n",
       "      <td>3</td>\n",
       "    </tr>\n",
       "    <tr>\n",
       "      <th>94</th>\n",
       "      <td>&lt;http://dbpedia.org/resource/Eva_Habermann&gt;</td>\n",
       "      <td>Eva Habermann</td>\n",
       "      <td>eva felicitas habermann born january 16 1976 i...</td>\n",
       "      <td>3</td>\n",
       "    </tr>\n",
       "    <tr>\n",
       "      <th>97</th>\n",
       "      <td>&lt;http://dbpedia.org/resource/David_Shaughnessy&gt;</td>\n",
       "      <td>David Shaughnessy</td>\n",
       "      <td>david james shaughnessy also spelled shaughnes...</td>\n",
       "      <td>3</td>\n",
       "    </tr>\n",
       "    <tr>\n",
       "      <th>117</th>\n",
       "      <td>&lt;http://dbpedia.org/resource/Christine_Langan&gt;</td>\n",
       "      <td>Christine Langan</td>\n",
       "      <td>christine langan born january 1965 is an engli...</td>\n",
       "      <td>3</td>\n",
       "    </tr>\n",
       "    <tr>\n",
       "      <th>136</th>\n",
       "      <td>&lt;http://dbpedia.org/resource/Erik_Marcisak&gt;</td>\n",
       "      <td>Erik Marcisak</td>\n",
       "      <td>erik marcisak pronounced marseesack born march...</td>\n",
       "      <td>3</td>\n",
       "    </tr>\n",
       "    <tr>\n",
       "      <th>149</th>\n",
       "      <td>&lt;http://dbpedia.org/resource/Lady_Clover_Honey&gt;</td>\n",
       "      <td>Lady Clover Honey</td>\n",
       "      <td>lady clover honey is an american drag queen co...</td>\n",
       "      <td>3</td>\n",
       "    </tr>\n",
       "    <tr>\n",
       "      <th>170</th>\n",
       "      <td>&lt;http://dbpedia.org/resource/Antonio_Meneses_S...</td>\n",
       "      <td>Antonio Meneses Saillant</td>\n",
       "      <td>antonio meneses saillant born alfonso antonio ...</td>\n",
       "      <td>3</td>\n",
       "    </tr>\n",
       "    <tr>\n",
       "      <th>194</th>\n",
       "      <td>&lt;http://dbpedia.org/resource/Usama_Alshaibi&gt;</td>\n",
       "      <td>Usama Alshaibi</td>\n",
       "      <td>usama alshaibi arabic born in baghdad iraq on ...</td>\n",
       "      <td>3</td>\n",
       "    </tr>\n",
       "    <tr>\n",
       "      <th>202</th>\n",
       "      <td>&lt;http://dbpedia.org/resource/Tony_Mordente&gt;</td>\n",
       "      <td>Tony Mordente</td>\n",
       "      <td>tony mordente born december 3 1935 is an ameri...</td>\n",
       "      <td>3</td>\n",
       "    </tr>\n",
       "    <tr>\n",
       "      <th>205</th>\n",
       "      <td>&lt;http://dbpedia.org/resource/Rosalind_Harris&gt;</td>\n",
       "      <td>Rosalind Harris</td>\n",
       "      <td>rosalind harris 1950 is an american actress wh...</td>\n",
       "      <td>3</td>\n",
       "    </tr>\n",
       "    <tr>\n",
       "      <th>219</th>\n",
       "      <td>&lt;http://dbpedia.org/resource/Kat_Coiro&gt;</td>\n",
       "      <td>Kat Coiro</td>\n",
       "      <td>katherine cunninghameves known as kat coiro is...</td>\n",
       "      <td>3</td>\n",
       "    </tr>\n",
       "    <tr>\n",
       "      <th>227</th>\n",
       "      <td>&lt;http://dbpedia.org/resource/Judith_Jacob&gt;</td>\n",
       "      <td>Judith Jacob</td>\n",
       "      <td>judith jacob born 13 december 1961 is a britis...</td>\n",
       "      <td>3</td>\n",
       "    </tr>\n",
       "    <tr>\n",
       "      <th>230</th>\n",
       "      <td>&lt;http://dbpedia.org/resource/Tony_Lundon&gt;</td>\n",
       "      <td>Tony Lundon</td>\n",
       "      <td>anthony william james tony lundon born 13 apri...</td>\n",
       "      <td>3</td>\n",
       "    </tr>\n",
       "  </tbody>\n",
       "</table>\n",
       "</div>"
      ],
      "text/plain": [
       "                                                   URI  \\\n",
       "7        <http://dbpedia.org/resource/Trevor_Ferguson>   \n",
       "15        <http://dbpedia.org/resource/Joerg_Steineck>   \n",
       "40        <http://dbpedia.org/resource/Timothy_Grucza>   \n",
       "69             <http://dbpedia.org/resource/Will_Tiao>   \n",
       "71      <http://dbpedia.org/resource/Geoffrey_Bayldon>   \n",
       "80      <http://dbpedia.org/resource/Robin_MacPherson>   \n",
       "85   <http://dbpedia.org/resource/Zvonimir_Juri%C4%87>   \n",
       "91         <http://dbpedia.org/resource/Katja_Herbers>   \n",
       "94         <http://dbpedia.org/resource/Eva_Habermann>   \n",
       "97     <http://dbpedia.org/resource/David_Shaughnessy>   \n",
       "117     <http://dbpedia.org/resource/Christine_Langan>   \n",
       "136        <http://dbpedia.org/resource/Erik_Marcisak>   \n",
       "149    <http://dbpedia.org/resource/Lady_Clover_Honey>   \n",
       "170  <http://dbpedia.org/resource/Antonio_Meneses_S...   \n",
       "194       <http://dbpedia.org/resource/Usama_Alshaibi>   \n",
       "202        <http://dbpedia.org/resource/Tony_Mordente>   \n",
       "205      <http://dbpedia.org/resource/Rosalind_Harris>   \n",
       "219            <http://dbpedia.org/resource/Kat_Coiro>   \n",
       "227         <http://dbpedia.org/resource/Judith_Jacob>   \n",
       "230          <http://dbpedia.org/resource/Tony_Lundon>   \n",
       "\n",
       "                         name  \\\n",
       "7             Trevor Ferguson   \n",
       "15             Joerg Steineck   \n",
       "40             Timothy Grucza   \n",
       "69                  Will Tiao   \n",
       "71           Geoffrey Bayldon   \n",
       "80           Robin MacPherson   \n",
       "85        Zvonimir Juri%C4%87   \n",
       "91              Katja Herbers   \n",
       "94              Eva Habermann   \n",
       "97          David Shaughnessy   \n",
       "117          Christine Langan   \n",
       "136             Erik Marcisak   \n",
       "149         Lady Clover Honey   \n",
       "170  Antonio Meneses Saillant   \n",
       "194            Usama Alshaibi   \n",
       "202             Tony Mordente   \n",
       "205           Rosalind Harris   \n",
       "219                 Kat Coiro   \n",
       "227              Judith Jacob   \n",
       "230               Tony Lundon   \n",
       "\n",
       "                                                  text  tfidf_cluster  \n",
       "7    trevor ferguson aka john farrow born 11 novemb...              3  \n",
       "15   joerg steineck is a german filmmaker editor an...              3  \n",
       "40   timothy grucza born 1 july 1976 melbourne aust...              3  \n",
       "69   will tiao is a taiwanese american actor and pr...              3  \n",
       "71   geoffrey bayldon born 7 january 1924 in leeds ...              3  \n",
       "80   robin macpherson born 1959 glasgow scotland is...              3  \n",
       "85   zvonimir juri born 4 june 1971 is a croatian f...              3  \n",
       "91   katja mira herbers dutch pronunciation ktja mi...              3  \n",
       "94   eva felicitas habermann born january 16 1976 i...              3  \n",
       "97   david james shaughnessy also spelled shaughnes...              3  \n",
       "117  christine langan born january 1965 is an engli...              3  \n",
       "136  erik marcisak pronounced marseesack born march...              3  \n",
       "149  lady clover honey is an american drag queen co...              3  \n",
       "170  antonio meneses saillant born alfonso antonio ...              3  \n",
       "194  usama alshaibi arabic born in baghdad iraq on ...              3  \n",
       "202  tony mordente born december 3 1935 is an ameri...              3  \n",
       "205  rosalind harris 1950 is an american actress wh...              3  \n",
       "219  katherine cunninghameves known as kat coiro is...              3  \n",
       "227  judith jacob born 13 december 1961 is a britis...              3  \n",
       "230  anthony william james tony lundon born 13 apri...              3  "
      ]
     },
     "execution_count": 49,
     "metadata": {},
     "output_type": "execute_result"
    }
   ],
   "source": [
    "df[df.tfidf_cluster == 3].head(20)"
   ]
  },
  {
   "cell_type": "code",
   "execution_count": 50,
   "id": "8cbd548f-7f32-4293-a4d9-7bd77669431d",
   "metadata": {},
   "outputs": [
    {
     "data": {
      "text/html": [
       "<div>\n",
       "<style scoped>\n",
       "    .dataframe tbody tr th:only-of-type {\n",
       "        vertical-align: middle;\n",
       "    }\n",
       "\n",
       "    .dataframe tbody tr th {\n",
       "        vertical-align: top;\n",
       "    }\n",
       "\n",
       "    .dataframe thead th {\n",
       "        text-align: right;\n",
       "    }\n",
       "</style>\n",
       "<table border=\"1\" class=\"dataframe\">\n",
       "  <thead>\n",
       "    <tr style=\"text-align: right;\">\n",
       "      <th></th>\n",
       "      <th>URI</th>\n",
       "      <th>name</th>\n",
       "      <th>text</th>\n",
       "      <th>tfidf_cluster</th>\n",
       "    </tr>\n",
       "  </thead>\n",
       "  <tbody>\n",
       "    <tr>\n",
       "      <th>0</th>\n",
       "      <td>&lt;http://dbpedia.org/resource/Digby_Morrell&gt;</td>\n",
       "      <td>Digby Morrell</td>\n",
       "      <td>digby morrell born 10 october 1979 is a former...</td>\n",
       "      <td>4</td>\n",
       "    </tr>\n",
       "    <tr>\n",
       "      <th>1</th>\n",
       "      <td>&lt;http://dbpedia.org/resource/Alfred_J._Lewy&gt;</td>\n",
       "      <td>Alfred J. Lewy</td>\n",
       "      <td>alfred j lewy aka sandy lewy graduated from un...</td>\n",
       "      <td>0</td>\n",
       "    </tr>\n",
       "    <tr>\n",
       "      <th>2</th>\n",
       "      <td>&lt;http://dbpedia.org/resource/Harpdog_Brown&gt;</td>\n",
       "      <td>Harpdog Brown</td>\n",
       "      <td>harpdog brown is a singer and harmonica player...</td>\n",
       "      <td>2</td>\n",
       "    </tr>\n",
       "    <tr>\n",
       "      <th>3</th>\n",
       "      <td>&lt;http://dbpedia.org/resource/Franz_Rottensteiner&gt;</td>\n",
       "      <td>Franz Rottensteiner</td>\n",
       "      <td>franz rottensteiner born in waidmannsfeld lowe...</td>\n",
       "      <td>0</td>\n",
       "    </tr>\n",
       "    <tr>\n",
       "      <th>4</th>\n",
       "      <td>&lt;http://dbpedia.org/resource/G-Enka&gt;</td>\n",
       "      <td>G-Enka</td>\n",
       "      <td>henry krvits born 30 december 1974 in tallinn ...</td>\n",
       "      <td>2</td>\n",
       "    </tr>\n",
       "  </tbody>\n",
       "</table>\n",
       "</div>"
      ],
      "text/plain": [
       "                                                 URI                 name  \\\n",
       "0        <http://dbpedia.org/resource/Digby_Morrell>        Digby Morrell   \n",
       "1       <http://dbpedia.org/resource/Alfred_J._Lewy>       Alfred J. Lewy   \n",
       "2        <http://dbpedia.org/resource/Harpdog_Brown>        Harpdog Brown   \n",
       "3  <http://dbpedia.org/resource/Franz_Rottensteiner>  Franz Rottensteiner   \n",
       "4               <http://dbpedia.org/resource/G-Enka>               G-Enka   \n",
       "\n",
       "                                                text  tfidf_cluster  \n",
       "0  digby morrell born 10 october 1979 is a former...              4  \n",
       "1  alfred j lewy aka sandy lewy graduated from un...              0  \n",
       "2  harpdog brown is a singer and harmonica player...              2  \n",
       "3  franz rottensteiner born in waidmannsfeld lowe...              0  \n",
       "4  henry krvits born 30 december 1974 in tallinn ...              2  "
      ]
     },
     "execution_count": 50,
     "metadata": {},
     "output_type": "execute_result"
    }
   ],
   "source": [
    "df.head()"
   ]
  },
  {
   "cell_type": "code",
   "execution_count": 115,
   "id": "b62ef296-dded-40a3-89ae-3574b470cc51",
   "metadata": {},
   "outputs": [],
   "source": [
    "df_digby = df.iloc[[0,]].copy()"
   ]
  },
  {
   "cell_type": "code",
   "execution_count": 116,
   "id": "d953e183-430f-4d7f-b545-081fe1992f90",
   "metadata": {},
   "outputs": [
    {
     "data": {
      "text/html": [
       "<div>\n",
       "<style scoped>\n",
       "    .dataframe tbody tr th:only-of-type {\n",
       "        vertical-align: middle;\n",
       "    }\n",
       "\n",
       "    .dataframe tbody tr th {\n",
       "        vertical-align: top;\n",
       "    }\n",
       "\n",
       "    .dataframe thead th {\n",
       "        text-align: right;\n",
       "    }\n",
       "</style>\n",
       "<table border=\"1\" class=\"dataframe\">\n",
       "  <thead>\n",
       "    <tr style=\"text-align: right;\">\n",
       "      <th></th>\n",
       "      <th>URI</th>\n",
       "      <th>name</th>\n",
       "      <th>text</th>\n",
       "      <th>tfidf_cluster</th>\n",
       "    </tr>\n",
       "  </thead>\n",
       "  <tbody>\n",
       "    <tr>\n",
       "      <th>0</th>\n",
       "      <td>&lt;http://dbpedia.org/resource/Digby_Morrell&gt;</td>\n",
       "      <td>Digby Morrell</td>\n",
       "      <td>digby morrell born 10 october 1979 is a former...</td>\n",
       "      <td>4</td>\n",
       "    </tr>\n",
       "  </tbody>\n",
       "</table>\n",
       "</div>"
      ],
      "text/plain": [
       "                                           URI           name  \\\n",
       "0  <http://dbpedia.org/resource/Digby_Morrell>  Digby Morrell   \n",
       "\n",
       "                                                text  tfidf_cluster  \n",
       "0  digby morrell born 10 october 1979 is a former...              4  "
      ]
     },
     "execution_count": 116,
     "metadata": {},
     "output_type": "execute_result"
    }
   ],
   "source": [
    "df_digby"
   ]
  },
  {
   "cell_type": "code",
   "execution_count": 110,
   "id": "540c07be-409c-4d9d-a7fc-1d7178b13cac",
   "metadata": {},
   "outputs": [],
   "source": [
    "tfidf_matrix_for_digby = pd.DataFrame(X[0].T.todense(), index=tfidf_tokens, columns=[\"TF-IDF\"]).sort_values('TF-IDF', ascending=False)"
   ]
  },
  {
   "cell_type": "code",
   "execution_count": 111,
   "id": "9dc1f80d-362e-4329-ace7-75acaffcc516",
   "metadata": {},
   "outputs": [
    {
     "data": {
      "text/plain": [
       "morrell      0.553180\n",
       "football     0.386163\n",
       "kangaroos    0.256943\n",
       "club         0.174097\n",
       "carlton      0.137553\n",
       "               ...   \n",
       "epitomise    0.000000\n",
       "epitomic     0.000000\n",
       "epitome      0.000000\n",
       "epithets     0.000000\n",
       "zzts         0.000000\n",
       "Name: TF-IDF, Length: 547629, dtype: float64"
      ]
     },
     "execution_count": 111,
     "metadata": {},
     "output_type": "execute_result"
    }
   ],
   "source": [
    "tfidf_matrix_for_digby['TF-IDF']"
   ]
  },
  {
   "cell_type": "code",
   "execution_count": 112,
   "id": "e13ba42c-a337-404d-9fac-30791ee60ea6",
   "metadata": {},
   "outputs": [],
   "source": [
    "tfidf_matrix_for_digby = tfidf_matrix_for_digby['TF-IDF'].to_json()"
   ]
  },
  {
   "cell_type": "code",
   "execution_count": 117,
   "id": "a23fbf28-ba4a-4c21-8cd8-d5bd9b7c2101",
   "metadata": {},
   "outputs": [],
   "source": [
    "df_digby.loc[:, 'tfidf_dict'] = tfidf_matrix_for_digby"
   ]
  },
  {
   "cell_type": "code",
   "execution_count": 118,
   "id": "7286c7f6-88b2-431e-a6da-b93e47d3cd3c",
   "metadata": {},
   "outputs": [
    {
     "data": {
      "text/html": [
       "<div>\n",
       "<style scoped>\n",
       "    .dataframe tbody tr th:only-of-type {\n",
       "        vertical-align: middle;\n",
       "    }\n",
       "\n",
       "    .dataframe tbody tr th {\n",
       "        vertical-align: top;\n",
       "    }\n",
       "\n",
       "    .dataframe thead th {\n",
       "        text-align: right;\n",
       "    }\n",
       "</style>\n",
       "<table border=\"1\" class=\"dataframe\">\n",
       "  <thead>\n",
       "    <tr style=\"text-align: right;\">\n",
       "      <th></th>\n",
       "      <th>URI</th>\n",
       "      <th>name</th>\n",
       "      <th>text</th>\n",
       "      <th>tfidf_cluster</th>\n",
       "      <th>tfidf_dict</th>\n",
       "    </tr>\n",
       "  </thead>\n",
       "  <tbody>\n",
       "    <tr>\n",
       "      <th>0</th>\n",
       "      <td>&lt;http://dbpedia.org/resource/Digby_Morrell&gt;</td>\n",
       "      <td>Digby Morrell</td>\n",
       "      <td>digby morrell born 10 october 1979 is a former...</td>\n",
       "      <td>4</td>\n",
       "      <td>{\"morrell\":0.5531803748,\"football\":0.386163332...</td>\n",
       "    </tr>\n",
       "  </tbody>\n",
       "</table>\n",
       "</div>"
      ],
      "text/plain": [
       "                                           URI           name  \\\n",
       "0  <http://dbpedia.org/resource/Digby_Morrell>  Digby Morrell   \n",
       "\n",
       "                                                text  tfidf_cluster  \\\n",
       "0  digby morrell born 10 october 1979 is a former...              4   \n",
       "\n",
       "                                          tfidf_dict  \n",
       "0  {\"morrell\":0.5531803748,\"football\":0.386163332...  "
      ]
     },
     "execution_count": 118,
     "metadata": {},
     "output_type": "execute_result"
    }
   ],
   "source": [
    "df_digby"
   ]
  },
  {
   "cell_type": "markdown",
   "id": "c81e2bd5-3f8f-444f-971c-bb07e16594b2",
   "metadata": {},
   "source": [
    "#TODO: Apply the `tfidf_dict` to all of the rows in the corpus, not just for Digby Morrell. This will help evaluation."
   ]
  },
  {
   "cell_type": "code",
   "execution_count": null,
   "id": "d85d1023-9894-4259-80e6-a1a10ccaebad",
   "metadata": {},
   "outputs": [],
   "source": []
  }
 ],
 "metadata": {
  "kernelspec": {
   "display_name": "wiki_article_clustering",
   "language": "python",
   "name": "wiki_article_clustering"
  },
  "language_info": {
   "codemirror_mode": {
    "name": "ipython",
    "version": 3
   },
   "file_extension": ".py",
   "mimetype": "text/x-python",
   "name": "python",
   "nbconvert_exporter": "python",
   "pygments_lexer": "ipython3",
   "version": "3.8.12"
  }
 },
 "nbformat": 4,
 "nbformat_minor": 5
}
